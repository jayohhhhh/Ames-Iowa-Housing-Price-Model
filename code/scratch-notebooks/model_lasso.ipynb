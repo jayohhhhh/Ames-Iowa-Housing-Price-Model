{
 "cells": [
  {
   "cell_type": "code",
   "execution_count": 7,
   "id": "24a0f682-a609-4680-a32f-ac5dc68b4344",
   "metadata": {
    "tags": []
   },
   "outputs": [],
   "source": [
    "import pandas as pd\n",
    "import numpy as np\n",
    "import matplotlib.pyplot as plt\n",
    "import seaborn as sns\n",
    "\n",
    "from sklearn.linear_model import LinearRegression\n",
    "from sklearn import metrics\n",
    "from sklearn.model_selection import train_test_split, cross_val_score\n",
    "from sklearn.preprocessing import PolynomialFeatures, StandardScaler, OneHotEncoder\n",
    "from sklearn.linear_model import Lasso, LassoCV, Ridge"
   ]
  },
  {
   "cell_type": "code",
   "execution_count": 8,
   "id": "0a311c42-d4e1-47ca-91ba-3e6f79d01376",
   "metadata": {},
   "outputs": [],
   "source": [
    "## EDA --------\n",
    "# **Read the data dictionary.**\n",
    "# Determine _what_ missing values mean.\n",
    "# Figure out what each categorical value represents.\n",
    "# Identify outliers.\n",
    "# Consider whether discrete values are better represented as categorical or continuous. (Are relationships to the target linear?)"
   ]
  },
  {
   "cell_type": "code",
   "execution_count": 9,
   "id": "3c63a3fd-7b76-4629-8c71-3b5c0e2eefa5",
   "metadata": {
    "tags": []
   },
   "outputs": [],
   "source": [
    "train = pd.read_csv('C:/Users/james/Documents/GA/Projects/project-2/datasets/train.csv')"
   ]
  },
  {
   "cell_type": "code",
   "execution_count": 10,
   "id": "bf1384dc-dea5-446b-9f97-02b83ddf9650",
   "metadata": {
    "tags": []
   },
   "outputs": [
    {
     "data": {
      "text/plain": [
       "(2051, 81)"
      ]
     },
     "execution_count": 10,
     "metadata": {},
     "output_type": "execute_result"
    }
   ],
   "source": [
    "train.shape"
   ]
  },
  {
   "cell_type": "code",
   "execution_count": 15,
   "id": "663dea8d-9229-4043-8390-6ee2362b9021",
   "metadata": {
    "tags": []
   },
   "outputs": [],
   "source": [
    "# DROP rows where column is empty\n",
    "# 'Garage Area'\n",
    "# 'Garage Cars'\n",
    "# 'Total Bsmt SF'\n",
    "train.dropna(subset=['Garage Area'], inplace=True)\n",
    "train.dropna(subset=['Garage Cars'], inplace=True)\n",
    "train.dropna(subset=['Total Bsmt SF'], inplace=True)"
   ]
  },
  {
   "cell_type": "code",
   "execution_count": 16,
   "id": "38789008-8f88-46cc-a0ef-04c82ad5f067",
   "metadata": {
    "tags": []
   },
   "outputs": [],
   "source": [
    "xvars = ['Overall Qual', 'Gr Liv Area', 'Garage Area', 'Garage Cars', 'Total Bsmt SF', 'Year Built', 'Year Remod/Add', 'Full Bath', 'Fireplaces',]"
   ]
  },
  {
   "cell_type": "code",
   "execution_count": 17,
   "id": "695be5df-902a-45ae-a651-047d9b666a15",
   "metadata": {
    "tags": []
   },
   "outputs": [],
   "source": [
    "#function that removes outliers in all columns with a threshold higher than 3\n",
    "def z_score_col(df, columns):\n",
    "    for column in columns:\n",
    "        z_scores = (df[column] - df[column].mean()) / df[column].std()\n",
    "        outliers = df[np.abs(z_scores) > 3]\n",
    "        cleaned_df = df.drop(outliers.index)\n",
    "    return cleaned_df"
   ]
  },
  {
   "cell_type": "code",
   "execution_count": 19,
   "id": "5af69072-d91c-40ef-8e59-f9f279a0954d",
   "metadata": {
    "tags": []
   },
   "outputs": [],
   "source": [
    "no_outlier_train = z_score_col(train, xvars)"
   ]
  },
  {
   "cell_type": "code",
   "execution_count": null,
   "id": "8995cb50-1539-4119-a294-52c84c6a2fd7",
   "metadata": {
    "tags": []
   },
   "outputs": [],
   "source": [
    "no_outlier_train.head(5)"
   ]
  },
  {
   "cell_type": "code",
   "execution_count": null,
   "id": "47c5326d-dd42-4094-851d-22e263ea3ede",
   "metadata": {
    "tags": []
   },
   "outputs": [],
   "source": [
    "no_outlier_train.shape"
   ]
  },
  {
   "cell_type": "code",
   "execution_count": null,
   "id": "247f6adc-6a3c-4609-98e7-9a1d03659cd7",
   "metadata": {
    "tags": []
   },
   "outputs": [],
   "source": [
    "train.shape"
   ]
  },
  {
   "cell_type": "code",
   "execution_count": 45,
   "id": "2bd25212-882c-4ec7-bf57-21b48297fd41",
   "metadata": {
    "tags": []
   },
   "outputs": [
    {
     "data": {
      "text/plain": [
       "Overall Qual      0\n",
       "Gr Liv Area       0\n",
       "Garage Area       0\n",
       "Garage Cars       0\n",
       "Total Bsmt SF     0\n",
       "Year Built        0\n",
       "Year Remod/Add    0\n",
       "Full Bath         0\n",
       "Fireplaces        0\n",
       "dtype: int64"
      ]
     },
     "execution_count": 45,
     "metadata": {},
     "output_type": "execute_result"
    }
   ],
   "source": [
    "# All missing values from highest to lowest\n",
    "X.isnull().sum().sort_values(ascending=False).head(27)"
   ]
  },
  {
   "cell_type": "code",
   "execution_count": null,
   "id": "675842f4-7ef4-4a4c-a201-b9322988a5e4",
   "metadata": {
    "tags": []
   },
   "outputs": [],
   "source": [
    "# No values in 'Pool QC'\n",
    "null_columns['Pool QC'].unique()"
   ]
  },
  {
   "cell_type": "code",
   "execution_count": null,
   "id": "3a4d703e-c579-4d43-95c7-17791d55cd1b",
   "metadata": {
    "tags": []
   },
   "outputs": [],
   "source": [
    "# GRAPH: Missing values in each column\n",
    "train.isnull().sum().plot(kind='barh', figsize=(8,14))\n",
    "plt.title('Count of Missing Values');"
   ]
  },
  {
   "cell_type": "code",
   "execution_count": null,
   "id": "9e3ae69a-e4ec-4f14-b640-4dd70657cd15",
   "metadata": {
    "tags": []
   },
   "outputs": [],
   "source": [
    "# shows the highest corellating variables for a single variable model // try top 10? and then retest with more or less variables // dont use both Garage area & Garage Cars??\n",
    "plt.figure(figsize=(8,10))\n",
    "sns.heatmap(train.corr(numeric_only=True)[['SalePrice']].sort_values(by='SalePrice', ascending = False), annot=True);"
   ]
  },
  {
   "cell_type": "code",
   "execution_count": 20,
   "id": "ea2bd343-1828-4406-ac54-15922ca89b9f",
   "metadata": {
    "tags": []
   },
   "outputs": [],
   "source": [
    "# removed 'Wood Deck SF' and outliers based on Z-score of threshhold: 3\n",
    "xvars = ['Overall Qual', 'Gr Liv Area', 'Garage Area', 'Garage Cars', 'Total Bsmt SF', 'Year Built', 'Year Remod/Add', 'Full Bath', 'Fireplaces',]\n",
    "X = train[xvars]\n",
    "y = train['SalePrice']"
   ]
  },
  {
   "cell_type": "code",
   "execution_count": 21,
   "id": "22fedcb6-271b-4ef9-815e-8d0a619a8197",
   "metadata": {
    "tags": []
   },
   "outputs": [],
   "source": [
    "X_train, X_test, y_train, y_test = train_test_split(X, y, random_state=42)"
   ]
  },
  {
   "cell_type": "code",
   "execution_count": 22,
   "id": "cf70702c-9f10-4e4d-9229-f767d960f802",
   "metadata": {
    "tags": []
   },
   "outputs": [],
   "source": [
    "sc = StandardScaler()\n",
    "Z_train = sc.fit_transform(X_train)\n",
    "Z_test = sc.transform(X_test)"
   ]
  },
  {
   "cell_type": "code",
   "execution_count": 24,
   "id": "ffe5da01-7bee-4204-883c-1f7393ceccdd",
   "metadata": {
    "tags": []
   },
   "outputs": [],
   "source": [
    "lasso_cv = LassoCV()\n",
    "\n",
    "# Fit model using best ridge alpha!\n",
    "lasso_cv.fit(Z_train, y_train);"
   ]
  },
  {
   "cell_type": "code",
   "execution_count": 25,
   "id": "b1ff36bd-60a5-42e1-847f-c91d8b19dbcc",
   "metadata": {
    "tags": []
   },
   "outputs": [
    {
     "name": "stdout",
     "output_type": "stream",
     "text": [
      "0.7815621292787372\n",
      "0.8272844452897716\n"
     ]
    }
   ],
   "source": [
    "print(lasso_cv.score(Z_train, y_train))\n",
    "print(lasso_cv.score(Z_test, y_test))"
   ]
  },
  {
   "cell_type": "code",
   "execution_count": 23,
   "id": "f66a5230-979c-4ede-8e08-85bb624373f8",
   "metadata": {
    "tags": []
   },
   "outputs": [
    {
     "name": "stdout",
     "output_type": "stream",
     "text": [
      "0.7821179957531557\n",
      "0.8305356695215075\n"
     ]
    }
   ],
   "source": [
    "# RIDGE Model\n",
    "ridge_model = Ridge(alpha=10)\n",
    "ridge_model.fit(Z_train, y_train)\n",
    "print(ridge_model.score(Z_train, y_train))\n",
    "print(ridge_model.score(Z_test, y_test))"
   ]
  },
  {
   "cell_type": "code",
   "execution_count": 28,
   "id": "2066c4ea-3f77-43c1-ab67-d61befdb6f38",
   "metadata": {
    "tags": []
   },
   "outputs": [
    {
     "name": "stdout",
     "output_type": "stream",
     "text": [
      "0.794343623507498\n"
     ]
    }
   ],
   "source": [
    "# Step 5: Refit on all data\n",
    "Z = sc.fit_transform(X)\n",
    "lasso_cv.fit(Z, y)\n",
    "print(lasso_cv.score(Z, y))"
   ]
  },
  {
   "cell_type": "code",
   "execution_count": 29,
   "id": "2b8f6789-ede6-438e-9605-154b07ecc030",
   "metadata": {
    "tags": []
   },
   "outputs": [],
   "source": [
    "test = pd.read_csv('C:/Users/james/Documents/GA/Projects/project-2/datasets/test.csv')"
   ]
  },
  {
   "cell_type": "code",
   "execution_count": 39,
   "id": "1f294ae6-d189-49a3-9a9a-206c744fbf41",
   "metadata": {
    "tags": []
   },
   "outputs": [],
   "source": [
    "# Refit test.csv\n",
    "test_scaled = sc.transform(test[['Overall Qual', 'Gr Liv Area', 'Garage Area', 'Garage Cars', 'Total Bsmt SF', 'Year Built', 'Year Remod/Add', 'Full Bath', 'Fireplaces']])"
   ]
  },
  {
   "cell_type": "code",
   "execution_count": 40,
   "id": "e238950f-c841-4e2d-91c8-5a47261d479a",
   "metadata": {
    "tags": []
   },
   "outputs": [],
   "source": [
    "y_pred_submission = lasso_cv.predict(test_scaled)"
   ]
  },
  {
   "cell_type": "code",
   "execution_count": null,
   "id": "65f87390-2612-498f-a1eb-7fcf489cbf30",
   "metadata": {
    "tags": []
   },
   "outputs": [],
   "source": [
    "model.coef_"
   ]
  },
  {
   "cell_type": "code",
   "execution_count": null,
   "id": "32d6a46c-cf41-446e-8f1c-7f3957959e14",
   "metadata": {
    "tags": []
   },
   "outputs": [],
   "source": [
    "model.intercept_"
   ]
  },
  {
   "cell_type": "code",
   "execution_count": 43,
   "id": "2550edb8-b696-4204-824f-ea4397ca98c9",
   "metadata": {
    "tags": []
   },
   "outputs": [
    {
     "name": "stderr",
     "output_type": "stream",
     "text": [
      "C:\\Users\\james\\anaconda3\\Lib\\site-packages\\sklearn\\base.py:457: UserWarning: X has feature names, but LassoCV was fitted without feature names\n",
      "  warnings.warn(\n"
     ]
    }
   ],
   "source": [
    "y_pred = lasso_cv.predict(X)"
   ]
  },
  {
   "cell_type": "code",
   "execution_count": 44,
   "id": "35a4ee7f-c9fd-4545-ba89-def7ebf0bebe",
   "metadata": {
    "tags": []
   },
   "outputs": [
    {
     "data": {
      "text/plain": [
       "(2049,)"
      ]
     },
     "execution_count": 44,
     "metadata": {},
     "output_type": "execute_result"
    }
   ],
   "source": [
    "y_pred.shape"
   ]
  },
  {
   "cell_type": "code",
   "execution_count": null,
   "id": "907b8ec5-d91f-497b-8b61-d96ae5eb762d",
   "metadata": {
    "tags": []
   },
   "outputs": [],
   "source": [
    "# R2\n",
    "metrics.r2_score(y, y_pred)"
   ]
  },
  {
   "cell_type": "code",
   "execution_count": null,
   "id": "09925dd9-0b20-48b5-838d-ef87720200c5",
   "metadata": {
    "tags": []
   },
   "outputs": [],
   "source": [
    "# MSE: - Need to fix outliers\n",
    "mse = metrics.mean_squared_error(y, y_pred)\n",
    "mse"
   ]
  },
  {
   "cell_type": "code",
   "execution_count": null,
   "id": "bcf8a1ee-38c9-4936-acae-6b18515e9226",
   "metadata": {
    "tags": []
   },
   "outputs": [],
   "source": [
    "# RMSE:\n",
    "np.sqrt(mse)"
   ]
  },
  {
   "cell_type": "code",
   "execution_count": null,
   "id": "4d033267-082b-480c-8991-30d1b0bf9a46",
   "metadata": {},
   "outputs": [],
   "source": [
    "# LINEM ASSUMPTIONS"
   ]
  },
  {
   "cell_type": "code",
   "execution_count": null,
   "id": "b9efa96b-4ce3-4ebb-9b3b-647ea4b106a6",
   "metadata": {
    "tags": []
   },
   "outputs": [],
   "source": [
    "# L X and y must be the same size?????\n",
    "plt.scatter(X, y);"
   ]
  },
  {
   "cell_type": "code",
   "execution_count": null,
   "id": "c0f32037-fb17-40b0-a183-70c6af755800",
   "metadata": {},
   "outputs": [],
   "source": [
    "# I"
   ]
  },
  {
   "cell_type": "code",
   "execution_count": null,
   "id": "004e9f5d-b25c-4c1b-95be-7c49475d00fb",
   "metadata": {
    "tags": []
   },
   "outputs": [],
   "source": [
    "# N\n",
    "resids = y - y_pred\n",
    "plt.hist(resids, bins=50);"
   ]
  },
  {
   "cell_type": "code",
   "execution_count": null,
   "id": "453c3dae-6905-4f0a-9033-1208b623b27c",
   "metadata": {
    "tags": []
   },
   "outputs": [],
   "source": [
    "# E\n",
    "plt.scatter(y_pred, resids, s=1)\n",
    "plt.axhline(0, color=\"orange\");"
   ]
  },
  {
   "cell_type": "code",
   "execution_count": null,
   "id": "90dcd1ab-dec1-40cd-8bd4-fc7154a2b00e",
   "metadata": {
    "tags": []
   },
   "outputs": [],
   "source": [
    "plt.boxplot(resids)\n",
    "plt.title('Residuals Boxplot')\n",
    "plt.show()"
   ]
  },
  {
   "cell_type": "markdown",
   "id": "b2856752-3903-4678-8c08-9b9ebe8ca5b3",
   "metadata": {},
   "source": [
    "### SUBMISSION # 2"
   ]
  },
  {
   "cell_type": "code",
   "execution_count": 42,
   "id": "4fff4c32-85d5-41a3-ac49-f63f85a95ca3",
   "metadata": {
    "tags": []
   },
   "outputs": [],
   "source": [
    "test = pd.read_csv('C:/Users/james/Documents/GA/Projects/project-2/datasets/test.csv')"
   ]
  },
  {
   "cell_type": "code",
   "execution_count": 34,
   "id": "1c93719e-d1b2-4c47-bbd8-0f6ce04c8de4",
   "metadata": {
    "tags": []
   },
   "outputs": [
    {
     "data": {
      "text/html": [
       "<div>\n",
       "<style scoped>\n",
       "    .dataframe tbody tr th:only-of-type {\n",
       "        vertical-align: middle;\n",
       "    }\n",
       "\n",
       "    .dataframe tbody tr th {\n",
       "        vertical-align: top;\n",
       "    }\n",
       "\n",
       "    .dataframe thead th {\n",
       "        text-align: right;\n",
       "    }\n",
       "</style>\n",
       "<table border=\"1\" class=\"dataframe\">\n",
       "  <thead>\n",
       "    <tr style=\"text-align: right;\">\n",
       "      <th></th>\n",
       "      <th>Id</th>\n",
       "      <th>PID</th>\n",
       "      <th>MS SubClass</th>\n",
       "      <th>MS Zoning</th>\n",
       "      <th>Lot Frontage</th>\n",
       "      <th>Lot Area</th>\n",
       "      <th>Street</th>\n",
       "      <th>Alley</th>\n",
       "      <th>Lot Shape</th>\n",
       "      <th>Land Contour</th>\n",
       "      <th>...</th>\n",
       "      <th>3Ssn Porch</th>\n",
       "      <th>Screen Porch</th>\n",
       "      <th>Pool Area</th>\n",
       "      <th>Pool QC</th>\n",
       "      <th>Fence</th>\n",
       "      <th>Misc Feature</th>\n",
       "      <th>Misc Val</th>\n",
       "      <th>Mo Sold</th>\n",
       "      <th>Yr Sold</th>\n",
       "      <th>Sale Type</th>\n",
       "    </tr>\n",
       "  </thead>\n",
       "  <tbody>\n",
       "    <tr>\n",
       "      <th>0</th>\n",
       "      <td>2658</td>\n",
       "      <td>902301120</td>\n",
       "      <td>190</td>\n",
       "      <td>RM</td>\n",
       "      <td>69.0</td>\n",
       "      <td>9142</td>\n",
       "      <td>Pave</td>\n",
       "      <td>Grvl</td>\n",
       "      <td>Reg</td>\n",
       "      <td>Lvl</td>\n",
       "      <td>...</td>\n",
       "      <td>0</td>\n",
       "      <td>0</td>\n",
       "      <td>0</td>\n",
       "      <td>NaN</td>\n",
       "      <td>NaN</td>\n",
       "      <td>NaN</td>\n",
       "      <td>0</td>\n",
       "      <td>4</td>\n",
       "      <td>2006</td>\n",
       "      <td>WD</td>\n",
       "    </tr>\n",
       "    <tr>\n",
       "      <th>1</th>\n",
       "      <td>2718</td>\n",
       "      <td>905108090</td>\n",
       "      <td>90</td>\n",
       "      <td>RL</td>\n",
       "      <td>NaN</td>\n",
       "      <td>9662</td>\n",
       "      <td>Pave</td>\n",
       "      <td>NaN</td>\n",
       "      <td>IR1</td>\n",
       "      <td>Lvl</td>\n",
       "      <td>...</td>\n",
       "      <td>0</td>\n",
       "      <td>0</td>\n",
       "      <td>0</td>\n",
       "      <td>NaN</td>\n",
       "      <td>NaN</td>\n",
       "      <td>NaN</td>\n",
       "      <td>0</td>\n",
       "      <td>8</td>\n",
       "      <td>2006</td>\n",
       "      <td>WD</td>\n",
       "    </tr>\n",
       "    <tr>\n",
       "      <th>2</th>\n",
       "      <td>2414</td>\n",
       "      <td>528218130</td>\n",
       "      <td>60</td>\n",
       "      <td>RL</td>\n",
       "      <td>58.0</td>\n",
       "      <td>17104</td>\n",
       "      <td>Pave</td>\n",
       "      <td>NaN</td>\n",
       "      <td>IR1</td>\n",
       "      <td>Lvl</td>\n",
       "      <td>...</td>\n",
       "      <td>0</td>\n",
       "      <td>0</td>\n",
       "      <td>0</td>\n",
       "      <td>NaN</td>\n",
       "      <td>NaN</td>\n",
       "      <td>NaN</td>\n",
       "      <td>0</td>\n",
       "      <td>9</td>\n",
       "      <td>2006</td>\n",
       "      <td>New</td>\n",
       "    </tr>\n",
       "    <tr>\n",
       "      <th>3</th>\n",
       "      <td>1989</td>\n",
       "      <td>902207150</td>\n",
       "      <td>30</td>\n",
       "      <td>RM</td>\n",
       "      <td>60.0</td>\n",
       "      <td>8520</td>\n",
       "      <td>Pave</td>\n",
       "      <td>NaN</td>\n",
       "      <td>Reg</td>\n",
       "      <td>Lvl</td>\n",
       "      <td>...</td>\n",
       "      <td>0</td>\n",
       "      <td>0</td>\n",
       "      <td>0</td>\n",
       "      <td>NaN</td>\n",
       "      <td>NaN</td>\n",
       "      <td>NaN</td>\n",
       "      <td>0</td>\n",
       "      <td>7</td>\n",
       "      <td>2007</td>\n",
       "      <td>WD</td>\n",
       "    </tr>\n",
       "    <tr>\n",
       "      <th>4</th>\n",
       "      <td>625</td>\n",
       "      <td>535105100</td>\n",
       "      <td>20</td>\n",
       "      <td>RL</td>\n",
       "      <td>NaN</td>\n",
       "      <td>9500</td>\n",
       "      <td>Pave</td>\n",
       "      <td>NaN</td>\n",
       "      <td>IR1</td>\n",
       "      <td>Lvl</td>\n",
       "      <td>...</td>\n",
       "      <td>0</td>\n",
       "      <td>185</td>\n",
       "      <td>0</td>\n",
       "      <td>NaN</td>\n",
       "      <td>NaN</td>\n",
       "      <td>NaN</td>\n",
       "      <td>0</td>\n",
       "      <td>7</td>\n",
       "      <td>2009</td>\n",
       "      <td>WD</td>\n",
       "    </tr>\n",
       "  </tbody>\n",
       "</table>\n",
       "<p>5 rows × 80 columns</p>\n",
       "</div>"
      ],
      "text/plain": [
       "     Id        PID  MS SubClass MS Zoning  Lot Frontage  Lot Area Street  \\\n",
       "0  2658  902301120          190        RM          69.0      9142   Pave   \n",
       "1  2718  905108090           90        RL           NaN      9662   Pave   \n",
       "2  2414  528218130           60        RL          58.0     17104   Pave   \n",
       "3  1989  902207150           30        RM          60.0      8520   Pave   \n",
       "4   625  535105100           20        RL           NaN      9500   Pave   \n",
       "\n",
       "  Alley Lot Shape Land Contour  ... 3Ssn Porch Screen Porch Pool Area Pool QC  \\\n",
       "0  Grvl       Reg          Lvl  ...          0            0         0     NaN   \n",
       "1   NaN       IR1          Lvl  ...          0            0         0     NaN   \n",
       "2   NaN       IR1          Lvl  ...          0            0         0     NaN   \n",
       "3   NaN       Reg          Lvl  ...          0            0         0     NaN   \n",
       "4   NaN       IR1          Lvl  ...          0          185         0     NaN   \n",
       "\n",
       "  Fence Misc Feature Misc Val Mo Sold  Yr Sold  Sale Type  \n",
       "0   NaN          NaN        0       4     2006        WD   \n",
       "1   NaN          NaN        0       8     2006        WD   \n",
       "2   NaN          NaN        0       9     2006        New  \n",
       "3   NaN          NaN        0       7     2007        WD   \n",
       "4   NaN          NaN        0       7     2009        WD   \n",
       "\n",
       "[5 rows x 80 columns]"
      ]
     },
     "execution_count": 34,
     "metadata": {},
     "output_type": "execute_result"
    }
   ],
   "source": [
    "test.head()"
   ]
  },
  {
   "cell_type": "code",
   "execution_count": 46,
   "id": "09d8ca88-bdf3-422e-a7ac-e0e1bd25e027",
   "metadata": {
    "tags": []
   },
   "outputs": [],
   "source": [
    "test['SalePrice'] = y_pred_submission"
   ]
  },
  {
   "cell_type": "code",
   "execution_count": 47,
   "id": "a55c8e89-4c2d-4609-a52f-0001867ba0e0",
   "metadata": {
    "tags": []
   },
   "outputs": [],
   "source": [
    "james_submission = test[['Id', 'SalePrice']]"
   ]
  },
  {
   "cell_type": "code",
   "execution_count": 48,
   "id": "d1cd4f06-274d-4d12-ae17-1e9a38b6b114",
   "metadata": {
    "tags": []
   },
   "outputs": [],
   "source": [
    "james_submission.set_index('Id', inplace=True)"
   ]
  },
  {
   "cell_type": "code",
   "execution_count": 49,
   "id": "92515aa0-52f4-4e06-998c-9f883a42ae34",
   "metadata": {
    "tags": []
   },
   "outputs": [],
   "source": [
    "james_submission.to_csv('C:/Users/james/Documents/GA/Projects/project-2/data/james_submission_lasso_cv.csv')"
   ]
  },
  {
   "cell_type": "code",
   "execution_count": null,
   "id": "1d18c547-ec35-412c-b0c5-4c908d6cf721",
   "metadata": {},
   "outputs": [],
   "source": []
  }
 ],
 "metadata": {
  "kernelspec": {
   "display_name": "Python 3 (ipykernel)",
   "language": "python",
   "name": "python3"
  },
  "language_info": {
   "codemirror_mode": {
    "name": "ipython",
    "version": 3
   },
   "file_extension": ".py",
   "mimetype": "text/x-python",
   "name": "python",
   "nbconvert_exporter": "python",
   "pygments_lexer": "ipython3",
   "version": "3.11.5"
  }
 },
 "nbformat": 4,
 "nbformat_minor": 5
}
