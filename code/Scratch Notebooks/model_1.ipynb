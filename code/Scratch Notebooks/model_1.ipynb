{
 "cells": [
  {
   "cell_type": "code",
   "execution_count": 2,
   "id": "24a0f682-a609-4680-a32f-ac5dc68b4344",
   "metadata": {
    "tags": []
   },
   "outputs": [],
   "source": [
    "import pandas as pd\n",
    "import numpy as np\n",
    "import matplotlib.pyplot as plt\n",
    "import seaborn as sns\n",
    "\n",
    "from sklearn.linear_model import LinearRegression\n",
    "from sklearn import metrics\n",
    "from sklearn.model_selection import train_test_split, cross_val_score"
   ]
  },
  {
   "cell_type": "code",
   "execution_count": 8,
   "id": "0a311c42-d4e1-47ca-91ba-3e6f79d01376",
   "metadata": {},
   "outputs": [],
   "source": [
    "## EDA --------\n",
    "# **Read the data dictionary.**\n",
    "# Determine _what_ missing values mean.\n",
    "# Figure out what each categorical value represents.\n",
    "# Identify outliers.\n",
    "# Consider whether discrete values are better represented as categorical or continuous. (Are relationships to the target linear?)"
   ]
  },
  {
   "cell_type": "code",
   "execution_count": 4,
   "id": "6605d316-0d2e-49c2-97e6-de59ead83390",
   "metadata": {
    "tags": []
   },
   "outputs": [],
   "source": [
    "train = pd.read_csv('C:/Users/james/Documents/GA/Projects/project-2/datasets/train.csv')"
   ]
  },
  {
   "cell_type": "code",
   "execution_count": 5,
   "id": "df25386c-bf1c-4aef-998c-e687100179f3",
   "metadata": {
    "tags": []
   },
   "outputs": [
    {
     "data": {
      "text/html": [
       "<div>\n",
       "<style scoped>\n",
       "    .dataframe tbody tr th:only-of-type {\n",
       "        vertical-align: middle;\n",
       "    }\n",
       "\n",
       "    .dataframe tbody tr th {\n",
       "        vertical-align: top;\n",
       "    }\n",
       "\n",
       "    .dataframe thead th {\n",
       "        text-align: right;\n",
       "    }\n",
       "</style>\n",
       "<table border=\"1\" class=\"dataframe\">\n",
       "  <thead>\n",
       "    <tr style=\"text-align: right;\">\n",
       "      <th></th>\n",
       "      <th>Id</th>\n",
       "      <th>PID</th>\n",
       "      <th>MS SubClass</th>\n",
       "      <th>MS Zoning</th>\n",
       "      <th>Lot Frontage</th>\n",
       "      <th>Lot Area</th>\n",
       "      <th>Street</th>\n",
       "      <th>Alley</th>\n",
       "      <th>Lot Shape</th>\n",
       "      <th>Land Contour</th>\n",
       "      <th>...</th>\n",
       "      <th>Screen Porch</th>\n",
       "      <th>Pool Area</th>\n",
       "      <th>Pool QC</th>\n",
       "      <th>Fence</th>\n",
       "      <th>Misc Feature</th>\n",
       "      <th>Misc Val</th>\n",
       "      <th>Mo Sold</th>\n",
       "      <th>Yr Sold</th>\n",
       "      <th>Sale Type</th>\n",
       "      <th>SalePrice</th>\n",
       "    </tr>\n",
       "  </thead>\n",
       "  <tbody>\n",
       "    <tr>\n",
       "      <th>0</th>\n",
       "      <td>109</td>\n",
       "      <td>533352170</td>\n",
       "      <td>60</td>\n",
       "      <td>RL</td>\n",
       "      <td>NaN</td>\n",
       "      <td>13517</td>\n",
       "      <td>Pave</td>\n",
       "      <td>NaN</td>\n",
       "      <td>IR1</td>\n",
       "      <td>Lvl</td>\n",
       "      <td>...</td>\n",
       "      <td>0</td>\n",
       "      <td>0</td>\n",
       "      <td>NaN</td>\n",
       "      <td>NaN</td>\n",
       "      <td>NaN</td>\n",
       "      <td>0</td>\n",
       "      <td>3</td>\n",
       "      <td>2010</td>\n",
       "      <td>WD</td>\n",
       "      <td>130500</td>\n",
       "    </tr>\n",
       "    <tr>\n",
       "      <th>1</th>\n",
       "      <td>544</td>\n",
       "      <td>531379050</td>\n",
       "      <td>60</td>\n",
       "      <td>RL</td>\n",
       "      <td>43.0</td>\n",
       "      <td>11492</td>\n",
       "      <td>Pave</td>\n",
       "      <td>NaN</td>\n",
       "      <td>IR1</td>\n",
       "      <td>Lvl</td>\n",
       "      <td>...</td>\n",
       "      <td>0</td>\n",
       "      <td>0</td>\n",
       "      <td>NaN</td>\n",
       "      <td>NaN</td>\n",
       "      <td>NaN</td>\n",
       "      <td>0</td>\n",
       "      <td>4</td>\n",
       "      <td>2009</td>\n",
       "      <td>WD</td>\n",
       "      <td>220000</td>\n",
       "    </tr>\n",
       "    <tr>\n",
       "      <th>2</th>\n",
       "      <td>153</td>\n",
       "      <td>535304180</td>\n",
       "      <td>20</td>\n",
       "      <td>RL</td>\n",
       "      <td>68.0</td>\n",
       "      <td>7922</td>\n",
       "      <td>Pave</td>\n",
       "      <td>NaN</td>\n",
       "      <td>Reg</td>\n",
       "      <td>Lvl</td>\n",
       "      <td>...</td>\n",
       "      <td>0</td>\n",
       "      <td>0</td>\n",
       "      <td>NaN</td>\n",
       "      <td>NaN</td>\n",
       "      <td>NaN</td>\n",
       "      <td>0</td>\n",
       "      <td>1</td>\n",
       "      <td>2010</td>\n",
       "      <td>WD</td>\n",
       "      <td>109000</td>\n",
       "    </tr>\n",
       "    <tr>\n",
       "      <th>3</th>\n",
       "      <td>318</td>\n",
       "      <td>916386060</td>\n",
       "      <td>60</td>\n",
       "      <td>RL</td>\n",
       "      <td>73.0</td>\n",
       "      <td>9802</td>\n",
       "      <td>Pave</td>\n",
       "      <td>NaN</td>\n",
       "      <td>Reg</td>\n",
       "      <td>Lvl</td>\n",
       "      <td>...</td>\n",
       "      <td>0</td>\n",
       "      <td>0</td>\n",
       "      <td>NaN</td>\n",
       "      <td>NaN</td>\n",
       "      <td>NaN</td>\n",
       "      <td>0</td>\n",
       "      <td>4</td>\n",
       "      <td>2010</td>\n",
       "      <td>WD</td>\n",
       "      <td>174000</td>\n",
       "    </tr>\n",
       "    <tr>\n",
       "      <th>4</th>\n",
       "      <td>255</td>\n",
       "      <td>906425045</td>\n",
       "      <td>50</td>\n",
       "      <td>RL</td>\n",
       "      <td>82.0</td>\n",
       "      <td>14235</td>\n",
       "      <td>Pave</td>\n",
       "      <td>NaN</td>\n",
       "      <td>IR1</td>\n",
       "      <td>Lvl</td>\n",
       "      <td>...</td>\n",
       "      <td>0</td>\n",
       "      <td>0</td>\n",
       "      <td>NaN</td>\n",
       "      <td>NaN</td>\n",
       "      <td>NaN</td>\n",
       "      <td>0</td>\n",
       "      <td>3</td>\n",
       "      <td>2010</td>\n",
       "      <td>WD</td>\n",
       "      <td>138500</td>\n",
       "    </tr>\n",
       "  </tbody>\n",
       "</table>\n",
       "<p>5 rows × 81 columns</p>\n",
       "</div>"
      ],
      "text/plain": [
       "    Id        PID  MS SubClass MS Zoning  Lot Frontage  Lot Area Street Alley  \\\n",
       "0  109  533352170           60        RL           NaN     13517   Pave   NaN   \n",
       "1  544  531379050           60        RL          43.0     11492   Pave   NaN   \n",
       "2  153  535304180           20        RL          68.0      7922   Pave   NaN   \n",
       "3  318  916386060           60        RL          73.0      9802   Pave   NaN   \n",
       "4  255  906425045           50        RL          82.0     14235   Pave   NaN   \n",
       "\n",
       "  Lot Shape Land Contour  ... Screen Porch Pool Area Pool QC Fence  \\\n",
       "0       IR1          Lvl  ...            0         0     NaN   NaN   \n",
       "1       IR1          Lvl  ...            0         0     NaN   NaN   \n",
       "2       Reg          Lvl  ...            0         0     NaN   NaN   \n",
       "3       Reg          Lvl  ...            0         0     NaN   NaN   \n",
       "4       IR1          Lvl  ...            0         0     NaN   NaN   \n",
       "\n",
       "  Misc Feature Misc Val Mo Sold Yr Sold  Sale Type  SalePrice  \n",
       "0          NaN        0       3    2010        WD      130500  \n",
       "1          NaN        0       4    2009        WD      220000  \n",
       "2          NaN        0       1    2010        WD      109000  \n",
       "3          NaN        0       4    2010        WD      174000  \n",
       "4          NaN        0       3    2010        WD      138500  \n",
       "\n",
       "[5 rows x 81 columns]"
      ]
     },
     "execution_count": 5,
     "metadata": {},
     "output_type": "execute_result"
    }
   ],
   "source": [
    "train.head(5)"
   ]
  },
  {
   "cell_type": "code",
   "execution_count": 12,
   "id": "30f43ec0-0e91-42ce-95ba-9c3949ec4eba",
   "metadata": {
    "tags": []
   },
   "outputs": [
    {
     "data": {
      "text/html": [
       "<div>\n",
       "<style scoped>\n",
       "    .dataframe tbody tr th:only-of-type {\n",
       "        vertical-align: middle;\n",
       "    }\n",
       "\n",
       "    .dataframe tbody tr th {\n",
       "        vertical-align: top;\n",
       "    }\n",
       "\n",
       "    .dataframe thead th {\n",
       "        text-align: right;\n",
       "    }\n",
       "</style>\n",
       "<table border=\"1\" class=\"dataframe\">\n",
       "  <thead>\n",
       "    <tr style=\"text-align: right;\">\n",
       "      <th></th>\n",
       "      <th>Id</th>\n",
       "      <th>PID</th>\n",
       "      <th>MS SubClass</th>\n",
       "      <th>MS Zoning</th>\n",
       "      <th>Lot Frontage</th>\n",
       "      <th>Lot Area</th>\n",
       "      <th>Street</th>\n",
       "      <th>Alley</th>\n",
       "      <th>Lot Shape</th>\n",
       "      <th>Land Contour</th>\n",
       "      <th>...</th>\n",
       "      <th>Screen Porch</th>\n",
       "      <th>Pool Area</th>\n",
       "      <th>Pool QC</th>\n",
       "      <th>Fence</th>\n",
       "      <th>Misc Feature</th>\n",
       "      <th>Misc Val</th>\n",
       "      <th>Mo Sold</th>\n",
       "      <th>Yr Sold</th>\n",
       "      <th>Sale Type</th>\n",
       "      <th>SalePrice</th>\n",
       "    </tr>\n",
       "  </thead>\n",
       "  <tbody>\n",
       "    <tr>\n",
       "      <th>0</th>\n",
       "      <td>False</td>\n",
       "      <td>False</td>\n",
       "      <td>False</td>\n",
       "      <td>False</td>\n",
       "      <td>True</td>\n",
       "      <td>False</td>\n",
       "      <td>False</td>\n",
       "      <td>True</td>\n",
       "      <td>False</td>\n",
       "      <td>False</td>\n",
       "      <td>...</td>\n",
       "      <td>False</td>\n",
       "      <td>False</td>\n",
       "      <td>True</td>\n",
       "      <td>True</td>\n",
       "      <td>True</td>\n",
       "      <td>False</td>\n",
       "      <td>False</td>\n",
       "      <td>False</td>\n",
       "      <td>False</td>\n",
       "      <td>False</td>\n",
       "    </tr>\n",
       "    <tr>\n",
       "      <th>1</th>\n",
       "      <td>False</td>\n",
       "      <td>False</td>\n",
       "      <td>False</td>\n",
       "      <td>False</td>\n",
       "      <td>False</td>\n",
       "      <td>False</td>\n",
       "      <td>False</td>\n",
       "      <td>True</td>\n",
       "      <td>False</td>\n",
       "      <td>False</td>\n",
       "      <td>...</td>\n",
       "      <td>False</td>\n",
       "      <td>False</td>\n",
       "      <td>True</td>\n",
       "      <td>True</td>\n",
       "      <td>True</td>\n",
       "      <td>False</td>\n",
       "      <td>False</td>\n",
       "      <td>False</td>\n",
       "      <td>False</td>\n",
       "      <td>False</td>\n",
       "    </tr>\n",
       "  </tbody>\n",
       "</table>\n",
       "<p>2 rows × 81 columns</p>\n",
       "</div>"
      ],
      "text/plain": [
       "      Id    PID  MS SubClass  MS Zoning  Lot Frontage  Lot Area  Street  \\\n",
       "0  False  False        False      False          True     False   False   \n",
       "1  False  False        False      False         False     False   False   \n",
       "\n",
       "   Alley  Lot Shape  Land Contour  ...  Screen Porch  Pool Area  Pool QC  \\\n",
       "0   True      False         False  ...         False      False     True   \n",
       "1   True      False         False  ...         False      False     True   \n",
       "\n",
       "   Fence  Misc Feature  Misc Val  Mo Sold  Yr Sold  Sale Type  SalePrice  \n",
       "0   True          True     False    False    False      False      False  \n",
       "1   True          True     False    False    False      False      False  \n",
       "\n",
       "[2 rows x 81 columns]"
      ]
     },
     "execution_count": 12,
     "metadata": {},
     "output_type": "execute_result"
    }
   ],
   "source": [
    "train.isnull().head(2)"
   ]
  },
  {
   "cell_type": "code",
   "execution_count": null,
   "id": "f84781ae-b620-4b21-b4ad-88b5344384fb",
   "metadata": {
    "tags": []
   },
   "outputs": [],
   "source": []
  },
  {
   "cell_type": "code",
   "execution_count": 13,
   "id": "d18e9be3-efe1-423b-b023-6e0b9173e391",
   "metadata": {
    "tags": []
   },
   "outputs": [],
   "source": [
    "# makes Jupyter show all rows and columns\n",
    "pd.options.display.max_rows = train.shape[1]\n",
    "pd.options.display.max_columns = train.shape[1]\n",
    "# set to show all columns in dataset\n",
    "pd.set_option('display.max_columns', 300)"
   ]
  },
  {
   "cell_type": "code",
   "execution_count": null,
   "id": "27033023-403b-4417-bb5c-f197d30a9a8c",
   "metadata": {},
   "outputs": [],
   "source": []
  },
  {
   "cell_type": "code",
   "execution_count": 14,
   "id": "0aa723ce-2f53-44a9-abb5-7fd6712a2739",
   "metadata": {
    "tags": []
   },
   "outputs": [
    {
     "data": {
      "text/html": [
       "<div>\n",
       "<style scoped>\n",
       "    .dataframe tbody tr th:only-of-type {\n",
       "        vertical-align: middle;\n",
       "    }\n",
       "\n",
       "    .dataframe tbody tr th {\n",
       "        vertical-align: top;\n",
       "    }\n",
       "\n",
       "    .dataframe thead th {\n",
       "        text-align: right;\n",
       "    }\n",
       "</style>\n",
       "<table border=\"1\" class=\"dataframe\">\n",
       "  <thead>\n",
       "    <tr style=\"text-align: right;\">\n",
       "      <th></th>\n",
       "      <th>Misc Feature</th>\n",
       "      <th>Fence</th>\n",
       "      <th>Fireplace Qu</th>\n",
       "      <th>Mas Vnr Type</th>\n",
       "      <th>Alley</th>\n",
       "      <th>Lot Frontage</th>\n",
       "    </tr>\n",
       "  </thead>\n",
       "  <tbody>\n",
       "    <tr>\n",
       "      <th>0</th>\n",
       "      <td>NaN</td>\n",
       "      <td>NaN</td>\n",
       "      <td>NaN</td>\n",
       "      <td>BrkFace</td>\n",
       "      <td>NaN</td>\n",
       "      <td>NaN</td>\n",
       "    </tr>\n",
       "    <tr>\n",
       "      <th>1</th>\n",
       "      <td>NaN</td>\n",
       "      <td>NaN</td>\n",
       "      <td>TA</td>\n",
       "      <td>BrkFace</td>\n",
       "      <td>NaN</td>\n",
       "      <td>43.0</td>\n",
       "    </tr>\n",
       "    <tr>\n",
       "      <th>2</th>\n",
       "      <td>NaN</td>\n",
       "      <td>NaN</td>\n",
       "      <td>NaN</td>\n",
       "      <td>NaN</td>\n",
       "      <td>NaN</td>\n",
       "      <td>68.0</td>\n",
       "    </tr>\n",
       "    <tr>\n",
       "      <th>3</th>\n",
       "      <td>NaN</td>\n",
       "      <td>NaN</td>\n",
       "      <td>NaN</td>\n",
       "      <td>NaN</td>\n",
       "      <td>NaN</td>\n",
       "      <td>73.0</td>\n",
       "    </tr>\n",
       "    <tr>\n",
       "      <th>4</th>\n",
       "      <td>NaN</td>\n",
       "      <td>NaN</td>\n",
       "      <td>NaN</td>\n",
       "      <td>NaN</td>\n",
       "      <td>NaN</td>\n",
       "      <td>82.0</td>\n",
       "    </tr>\n",
       "    <tr>\n",
       "      <th>5</th>\n",
       "      <td>NaN</td>\n",
       "      <td>NaN</td>\n",
       "      <td>Gd</td>\n",
       "      <td>NaN</td>\n",
       "      <td>NaN</td>\n",
       "      <td>137.0</td>\n",
       "    </tr>\n",
       "    <tr>\n",
       "      <th>6</th>\n",
       "      <td>NaN</td>\n",
       "      <td>NaN</td>\n",
       "      <td>NaN</td>\n",
       "      <td>BrkFace</td>\n",
       "      <td>NaN</td>\n",
       "      <td>35.0</td>\n",
       "    </tr>\n",
       "    <tr>\n",
       "      <th>7</th>\n",
       "      <td>NaN</td>\n",
       "      <td>MnPrv</td>\n",
       "      <td>NaN</td>\n",
       "      <td>BrkFace</td>\n",
       "      <td>NaN</td>\n",
       "      <td>NaN</td>\n",
       "    </tr>\n",
       "    <tr>\n",
       "      <th>8</th>\n",
       "      <td>Shed</td>\n",
       "      <td>MnPrv</td>\n",
       "      <td>NaN</td>\n",
       "      <td>NaN</td>\n",
       "      <td>NaN</td>\n",
       "      <td>NaN</td>\n",
       "    </tr>\n",
       "    <tr>\n",
       "      <th>9</th>\n",
       "      <td>NaN</td>\n",
       "      <td>NaN</td>\n",
       "      <td>TA</td>\n",
       "      <td>BrkFace</td>\n",
       "      <td>NaN</td>\n",
       "      <td>70.0</td>\n",
       "    </tr>\n",
       "  </tbody>\n",
       "</table>\n",
       "</div>"
      ],
      "text/plain": [
       "  Misc Feature  Fence Fireplace Qu Mas Vnr Type Alley  Lot Frontage\n",
       "0          NaN    NaN          NaN      BrkFace   NaN           NaN\n",
       "1          NaN    NaN           TA      BrkFace   NaN          43.0\n",
       "2          NaN    NaN          NaN          NaN   NaN          68.0\n",
       "3          NaN    NaN          NaN          NaN   NaN          73.0\n",
       "4          NaN    NaN          NaN          NaN   NaN          82.0\n",
       "5          NaN    NaN           Gd          NaN   NaN         137.0\n",
       "6          NaN    NaN          NaN      BrkFace   NaN          35.0\n",
       "7          NaN  MnPrv          NaN      BrkFace   NaN           NaN\n",
       "8         Shed  MnPrv          NaN          NaN   NaN           NaN\n",
       "9          NaN    NaN           TA      BrkFace   NaN          70.0"
      ]
     },
     "execution_count": 14,
     "metadata": {},
     "output_type": "execute_result"
    }
   ],
   "source": [
    "null_columns = train[['Misc Feature', 'Fence', 'Fireplace Qu', 'Mas Vnr Type', 'Alley', 'Lot Frontage']].head(10)\n",
    "null_columns.head(50)"
   ]
  },
  {
   "cell_type": "code",
   "execution_count": null,
   "id": "e2f3bd8d-6167-488d-80f1-986459184ae3",
   "metadata": {
    "tags": []
   },
   "outputs": [],
   "source": [
    "# OneHotEncode\n",
    "null_columns['Misc Feature'].unique()\n",
    "Misc_Feature_dummies = pd.get_dummies(train['Misc Feature'], prefix='Shed', drop_first=True)\n",
    "train = pd.concat([train, Misc_Feature_dummies], axis=1)\n",
    "Misc_Feature_dummies"
   ]
  },
  {
   "cell_type": "code",
   "execution_count": null,
   "id": "5e3aab7f-4265-49c0-b1eb-a15c44ae8584",
   "metadata": {
    "tags": []
   },
   "outputs": [],
   "source": [
    "train.head()"
   ]
  },
  {
   "cell_type": "code",
   "execution_count": null,
   "id": "6b82b3eb-7fd8-47e1-8791-d3bdcc094937",
   "metadata": {
    "tags": []
   },
   "outputs": [],
   "source": [
    "null_columns['Misc Feature'].unique()"
   ]
  },
  {
   "cell_type": "code",
   "execution_count": 6,
   "id": "ffb9e62b-188e-4b3b-ba86-931f8cfb1205",
   "metadata": {
    "tags": []
   },
   "outputs": [],
   "source": [
    "# DROP rows where column is empty\n",
    "# Garage Area\n",
    "# Garage Cars\n",
    "# Total Bsmt SF\n",
    "train.dropna(subset=['Garage Area'], inplace=True)\n",
    "train.dropna(subset=['Garage Cars'], inplace=True)\n",
    "train.dropna(subset=['Total Bsmt SF'], inplace=True)"
   ]
  },
  {
   "cell_type": "code",
   "execution_count": null,
   "id": "2bd25212-882c-4ec7-bf57-21b48297fd41",
   "metadata": {
    "tags": []
   },
   "outputs": [],
   "source": [
    "# All missing values from highest to lowest\n",
    "X.isnull().sum().sort_values(ascending=False).head(27)"
   ]
  },
  {
   "cell_type": "code",
   "execution_count": null,
   "id": "a123426f-8173-4f2f-9ac2-639e5f5971c4",
   "metadata": {
    "tags": []
   },
   "outputs": [],
   "source": [
    "# OneHotEncode\n",
    "null_columns['Fence'].unique()"
   ]
  },
  {
   "cell_type": "code",
   "execution_count": null,
   "id": "675842f4-7ef4-4a4c-a201-b9322988a5e4",
   "metadata": {
    "tags": []
   },
   "outputs": [],
   "source": [
    "# Dropped column since there are no values\n",
    "null_columns['Pool QC'].unique() \n",
    "train = train.drop('Pool QC', axis=1)"
   ]
  },
  {
   "cell_type": "code",
   "execution_count": null,
   "id": "ef9785f7-26ad-4a4f-84fb-231976d25ba5",
   "metadata": {
    "tags": []
   },
   "outputs": [],
   "source": [
    "# 0 if no fireplace 1 if they do\n",
    "null_columns['Fireplace Qu'].unique()"
   ]
  },
  {
   "cell_type": "code",
   "execution_count": null,
   "id": "77d4862d-21f5-4ee7-94e6-5f5b83003e72",
   "metadata": {
    "tags": []
   },
   "outputs": [],
   "source": [
    "train['Garage Yr Blt'].dtypes"
   ]
  },
  {
   "cell_type": "code",
   "execution_count": null,
   "id": "54d0a5b5-5800-4f22-a80f-94423f0aea88",
   "metadata": {
    "tags": []
   },
   "outputs": [],
   "source": [
    "#OneHotEncode\n",
    "null_columns['Mas Vnr Type'].unique()"
   ]
  },
  {
   "cell_type": "code",
   "execution_count": null,
   "id": "69fdc836-2161-4b01-aad7-e15e4e4430de",
   "metadata": {
    "tags": []
   },
   "outputs": [],
   "source": [
    "# DROP\n",
    "null_columns['Alley'].unique()\n",
    "train = train.drop('Alley', axis=1)"
   ]
  },
  {
   "cell_type": "code",
   "execution_count": null,
   "id": "b6416dfe-894c-49de-b6ac-de256f600661",
   "metadata": {
    "tags": []
   },
   "outputs": [],
   "source": [
    "# OneHotEncode 0, 1, 2, 3, 4, 5, 6\n",
    "null_columns['Lot Frontage'].unique()"
   ]
  },
  {
   "cell_type": "code",
   "execution_count": null,
   "id": "1b0efb43-f2c2-44b2-aceb-253651db1042",
   "metadata": {
    "tags": []
   },
   "outputs": [],
   "source": [
    "null_columns.dtypes.head(10)"
   ]
  },
  {
   "cell_type": "code",
   "execution_count": null,
   "id": "3a4d703e-c579-4d43-95c7-17791d55cd1b",
   "metadata": {
    "tags": []
   },
   "outputs": [],
   "source": [
    "# missing values in each column\n",
    "train.isnull().sum().plot(kind='barh', figsize=(8,14))\n",
    "plt.title('Count of Missing Values');"
   ]
  },
  {
   "cell_type": "code",
   "execution_count": null,
   "id": "9e3ae69a-e4ec-4f14-b640-4dd70657cd15",
   "metadata": {
    "tags": []
   },
   "outputs": [],
   "source": [
    "# shows the highest corellating variables for a single variable model // try top 10? and then retest with more or less variables // dont use both Garage area & Garage Cars??\n",
    "plt.figure(figsize=(8,10))\n",
    "sns.heatmap(train.corr(numeric_only=True)[['SalePrice']].sort_values(by='SalePrice', ascending = False), annot=True);"
   ]
  },
  {
   "cell_type": "code",
   "execution_count": null,
   "id": "d911cd1f-69ab-47ae-b2c2-e4da327dbfeb",
   "metadata": {
    "tags": []
   },
   "outputs": [],
   "source": [
    "train.isna().mean()"
   ]
  },
  {
   "cell_type": "code",
   "execution_count": null,
   "id": "660de36e-0986-4824-a943-1cc810dabe2d",
   "metadata": {
    "tags": []
   },
   "outputs": [],
   "source": [
    "train.describe()"
   ]
  },
  {
   "cell_type": "code",
   "execution_count": null,
   "id": "de03ed62-9fae-42ca-8ff8-97b711ac5442",
   "metadata": {
    "tags": []
   },
   "outputs": [],
   "source": [
    "train.dtypes.head(5)"
   ]
  },
  {
   "cell_type": "code",
   "execution_count": null,
   "id": "7246ffbc-0fd2-447a-bb4c-e099a1a58164",
   "metadata": {
    "tags": []
   },
   "outputs": [],
   "source": []
  },
  {
   "cell_type": "code",
   "execution_count": null,
   "id": "56e8328a-38c4-45a4-8aa6-d5bb4e981c05",
   "metadata": {},
   "outputs": [],
   "source": []
  },
  {
   "cell_type": "code",
   "execution_count": null,
   "id": "620b6dc4-ae56-4c3f-9077-1d5e5dd62f48",
   "metadata": {},
   "outputs": [],
   "source": []
  },
  {
   "cell_type": "code",
   "execution_count": null,
   "id": "74e8c6d8-9994-407a-b285-c0289fa1c6b4",
   "metadata": {},
   "outputs": [],
   "source": []
  },
  {
   "cell_type": "code",
   "execution_count": null,
   "id": "10a1ad31-5c0d-4d66-be75-1641297760b0",
   "metadata": {},
   "outputs": [],
   "source": [
    "## Data Cleaning--------\n",
    "# Decide how to impute null values.\n",
    "# Decide how to handle outliers.\n",
    "# Do you want to combine any features?\n",
    "# Do you want to have interaction terms?\n",
    "# Do you want to manually drop collinear features?"
   ]
  },
  {
   "cell_type": "code",
   "execution_count": null,
   "id": "018d84db-d85a-47dc-b174-2fa0c89d9f03",
   "metadata": {},
   "outputs": [],
   "source": []
  },
  {
   "cell_type": "code",
   "execution_count": null,
   "id": "f08ac7f4-f1c6-4ac9-8ae2-9c90d172bf08",
   "metadata": {},
   "outputs": [],
   "source": [
    "## Exploratory Visualizations--------\n",
    "# Look at distributions.\n",
    "# Look at correlations.\n",
    "# Look at relationships to target (scatter plots for continuous, box plots for categorical)."
   ]
  },
  {
   "cell_type": "code",
   "execution_count": null,
   "id": "d1bd4c83-caf1-411d-aecf-2b6ecb4e6176",
   "metadata": {
    "tags": []
   },
   "outputs": [],
   "source": [
    "train['Overall Qual', 'Gr Liv Area', 'Garage Area', 'Garage Cars', 'Total Bsmt SF', 'Year Built', 'Year Remod/Add', 'Full Bath', 'Fireplaces', 'Wood Deck SF']"
   ]
  },
  {
   "cell_type": "code",
   "execution_count": null,
   "id": "397fde0b-b446-4661-a2f3-635a5a23af47",
   "metadata": {},
   "outputs": [],
   "source": [
    "## Pre-processing----------\n",
    "# One-hot encode categorical variables.\n",
    "# Train/test split your data.\n",
    "# Scale your data.\n",
    "# Consider using automated feature selection."
   ]
  },
  {
   "cell_type": "code",
   "execution_count": null,
   "id": "12d39758-75ff-4749-9612-eb9692606c9c",
   "metadata": {},
   "outputs": [],
   "source": []
  },
  {
   "cell_type": "code",
   "execution_count": null,
   "id": "2889b5bd-dcb5-41b6-bf17-9ab49d26b77d",
   "metadata": {},
   "outputs": [],
   "source": []
  },
  {
   "cell_type": "code",
   "execution_count": null,
   "id": "1a2ec5c1-6837-42f0-ae0d-f527ae80f190",
   "metadata": {
    "tags": []
   },
   "outputs": [],
   "source": [
    "plt.figure(figsize=(8,11))\n",
    "sns.heatmap(train.corr(numeric_only=True)[['SalePrice']].sort_values(by='SalePrice', ascending = False), annot=True);"
   ]
  },
  {
   "cell_type": "code",
   "execution_count": null,
   "id": "b7ff06de-438b-4bd3-bdca-b3ca0717dad8",
   "metadata": {
    "tags": []
   },
   "outputs": [],
   "source": [
    "train.head()"
   ]
  },
  {
   "cell_type": "code",
   "execution_count": 7,
   "id": "ea2bd343-1828-4406-ac54-15922ca89b9f",
   "metadata": {
    "tags": []
   },
   "outputs": [],
   "source": [
    "xvars = ['Overall Qual', 'Gr Liv Area', 'Garage Area', 'Garage Cars', 'Total Bsmt SF', 'Year Built', 'Year Remod/Add', 'Full Bath', 'Fireplaces', 'Wood Deck SF']\n",
    "X = train[xvars]\n",
    "y = train['SalePrice']"
   ]
  },
  {
   "cell_type": "code",
   "execution_count": 8,
   "id": "22fedcb6-271b-4ef9-815e-8d0a619a8197",
   "metadata": {
    "tags": []
   },
   "outputs": [],
   "source": [
    "X_train, X_test, y_train, y_test = train_test_split(X, y, random_state=42)"
   ]
  },
  {
   "cell_type": "code",
   "execution_count": null,
   "id": "c8c331bc-acae-4f68-9de1-5e7e4274cc79",
   "metadata": {
    "tags": []
   },
   "outputs": [],
   "source": [
    "train[xvars]"
   ]
  },
  {
   "cell_type": "code",
   "execution_count": 5,
   "id": "91bd126c-8299-4afd-9161-8329ced4bc1a",
   "metadata": {
    "tags": []
   },
   "outputs": [
    {
     "ename": "NameError",
     "evalue": "name 'y' is not defined",
     "output_type": "error",
     "traceback": [
      "\u001b[1;31m---------------------------------------------------------------------------\u001b[0m",
      "\u001b[1;31mNameError\u001b[0m                                 Traceback (most recent call last)",
      "Cell \u001b[1;32mIn[5], line 1\u001b[0m\n\u001b[1;32m----> 1\u001b[0m y\n",
      "\u001b[1;31mNameError\u001b[0m: name 'y' is not defined"
     ]
    }
   ],
   "source": [
    "y"
   ]
  },
  {
   "cell_type": "code",
   "execution_count": 9,
   "id": "ffe5da01-7bee-4204-883c-1f7393ceccdd",
   "metadata": {
    "tags": []
   },
   "outputs": [
    {
     "data": {
      "text/html": [
       "<style>#sk-container-id-1 {color: black;}#sk-container-id-1 pre{padding: 0;}#sk-container-id-1 div.sk-toggleable {background-color: white;}#sk-container-id-1 label.sk-toggleable__label {cursor: pointer;display: block;width: 100%;margin-bottom: 0;padding: 0.3em;box-sizing: border-box;text-align: center;}#sk-container-id-1 label.sk-toggleable__label-arrow:before {content: \"▸\";float: left;margin-right: 0.25em;color: #696969;}#sk-container-id-1 label.sk-toggleable__label-arrow:hover:before {color: black;}#sk-container-id-1 div.sk-estimator:hover label.sk-toggleable__label-arrow:before {color: black;}#sk-container-id-1 div.sk-toggleable__content {max-height: 0;max-width: 0;overflow: hidden;text-align: left;background-color: #f0f8ff;}#sk-container-id-1 div.sk-toggleable__content pre {margin: 0.2em;color: black;border-radius: 0.25em;background-color: #f0f8ff;}#sk-container-id-1 input.sk-toggleable__control:checked~div.sk-toggleable__content {max-height: 200px;max-width: 100%;overflow: auto;}#sk-container-id-1 input.sk-toggleable__control:checked~label.sk-toggleable__label-arrow:before {content: \"▾\";}#sk-container-id-1 div.sk-estimator input.sk-toggleable__control:checked~label.sk-toggleable__label {background-color: #d4ebff;}#sk-container-id-1 div.sk-label input.sk-toggleable__control:checked~label.sk-toggleable__label {background-color: #d4ebff;}#sk-container-id-1 input.sk-hidden--visually {border: 0;clip: rect(1px 1px 1px 1px);clip: rect(1px, 1px, 1px, 1px);height: 1px;margin: -1px;overflow: hidden;padding: 0;position: absolute;width: 1px;}#sk-container-id-1 div.sk-estimator {font-family: monospace;background-color: #f0f8ff;border: 1px dotted black;border-radius: 0.25em;box-sizing: border-box;margin-bottom: 0.5em;}#sk-container-id-1 div.sk-estimator:hover {background-color: #d4ebff;}#sk-container-id-1 div.sk-parallel-item::after {content: \"\";width: 100%;border-bottom: 1px solid gray;flex-grow: 1;}#sk-container-id-1 div.sk-label:hover label.sk-toggleable__label {background-color: #d4ebff;}#sk-container-id-1 div.sk-serial::before {content: \"\";position: absolute;border-left: 1px solid gray;box-sizing: border-box;top: 0;bottom: 0;left: 50%;z-index: 0;}#sk-container-id-1 div.sk-serial {display: flex;flex-direction: column;align-items: center;background-color: white;padding-right: 0.2em;padding-left: 0.2em;position: relative;}#sk-container-id-1 div.sk-item {position: relative;z-index: 1;}#sk-container-id-1 div.sk-parallel {display: flex;align-items: stretch;justify-content: center;background-color: white;position: relative;}#sk-container-id-1 div.sk-item::before, #sk-container-id-1 div.sk-parallel-item::before {content: \"\";position: absolute;border-left: 1px solid gray;box-sizing: border-box;top: 0;bottom: 0;left: 50%;z-index: -1;}#sk-container-id-1 div.sk-parallel-item {display: flex;flex-direction: column;z-index: 1;position: relative;background-color: white;}#sk-container-id-1 div.sk-parallel-item:first-child::after {align-self: flex-end;width: 50%;}#sk-container-id-1 div.sk-parallel-item:last-child::after {align-self: flex-start;width: 50%;}#sk-container-id-1 div.sk-parallel-item:only-child::after {width: 0;}#sk-container-id-1 div.sk-dashed-wrapped {border: 1px dashed gray;margin: 0 0.4em 0.5em 0.4em;box-sizing: border-box;padding-bottom: 0.4em;background-color: white;}#sk-container-id-1 div.sk-label label {font-family: monospace;font-weight: bold;display: inline-block;line-height: 1.2em;}#sk-container-id-1 div.sk-label-container {text-align: center;}#sk-container-id-1 div.sk-container {/* jupyter's `normalize.less` sets `[hidden] { display: none; }` but bootstrap.min.css set `[hidden] { display: none !important; }` so we also need the `!important` here to be able to override the default hidden behavior on the sphinx rendered scikit-learn.org. See: https://github.com/scikit-learn/scikit-learn/issues/21755 */display: inline-block !important;position: relative;}#sk-container-id-1 div.sk-text-repr-fallback {display: none;}</style><div id=\"sk-container-id-1\" class=\"sk-top-container\"><div class=\"sk-text-repr-fallback\"><pre>LinearRegression()</pre><b>In a Jupyter environment, please rerun this cell to show the HTML representation or trust the notebook. <br />On GitHub, the HTML representation is unable to render, please try loading this page with nbviewer.org.</b></div><div class=\"sk-container\" hidden><div class=\"sk-item\"><div class=\"sk-estimator sk-toggleable\"><input class=\"sk-toggleable__control sk-hidden--visually\" id=\"sk-estimator-id-1\" type=\"checkbox\" checked><label for=\"sk-estimator-id-1\" class=\"sk-toggleable__label sk-toggleable__label-arrow\">LinearRegression</label><div class=\"sk-toggleable__content\"><pre>LinearRegression()</pre></div></div></div></div></div>"
      ],
      "text/plain": [
       "LinearRegression()"
      ]
     },
     "execution_count": 9,
     "metadata": {},
     "output_type": "execute_result"
    }
   ],
   "source": [
    "model = LinearRegression()\n",
    "model.fit(X_train, y_train)"
   ]
  },
  {
   "cell_type": "code",
   "execution_count": 1,
   "id": "1288a7da-6020-4173-a632-d4157aec7c74",
   "metadata": {
    "tags": []
   },
   "outputs": [
    {
     "ename": "NameError",
     "evalue": "name 'model' is not defined",
     "output_type": "error",
     "traceback": [
      "\u001b[1;31m---------------------------------------------------------------------------\u001b[0m",
      "\u001b[1;31mNameError\u001b[0m                                 Traceback (most recent call last)",
      "Cell \u001b[1;32mIn[1], line 1\u001b[0m\n\u001b[1;32m----> 1\u001b[0m model\u001b[38;5;241m.\u001b[39mscore(X_train, y_train)\n",
      "\u001b[1;31mNameError\u001b[0m: name 'model' is not defined"
     ]
    }
   ],
   "source": [
    "model.score(X_train, y_train)"
   ]
  },
  {
   "cell_type": "code",
   "execution_count": 2,
   "id": "d95ea81e-7a5b-4954-b1b6-f4048c7ca54b",
   "metadata": {
    "tags": []
   },
   "outputs": [
    {
     "ename": "NameError",
     "evalue": "name 'model' is not defined",
     "output_type": "error",
     "traceback": [
      "\u001b[1;31m---------------------------------------------------------------------------\u001b[0m",
      "\u001b[1;31mNameError\u001b[0m                                 Traceback (most recent call last)",
      "Cell \u001b[1;32mIn[2], line 1\u001b[0m\n\u001b[1;32m----> 1\u001b[0m model\u001b[38;5;241m.\u001b[39mscore(X_test, y_test)\n",
      "\u001b[1;31mNameError\u001b[0m: name 'model' is not defined"
     ]
    }
   ],
   "source": [
    "model.score(X_test, y_test)"
   ]
  },
  {
   "cell_type": "code",
   "execution_count": 12,
   "id": "65f87390-2612-498f-a1eb-7fcf489cbf30",
   "metadata": {
    "tags": []
   },
   "outputs": [
    {
     "data": {
      "text/plain": [
       "array([18687.46415569,    44.89041931,    35.50005662,  4562.67615196,\n",
       "          21.62855808,   284.80838982,   321.16921564, -3210.27421035,\n",
       "        9839.56988341,    27.91733725])"
      ]
     },
     "execution_count": 12,
     "metadata": {},
     "output_type": "execute_result"
    }
   ],
   "source": [
    "model.coef_"
   ]
  },
  {
   "cell_type": "code",
   "execution_count": 13,
   "id": "32d6a46c-cf41-446e-8f1c-7f3957959e14",
   "metadata": {
    "tags": []
   },
   "outputs": [
    {
     "data": {
      "text/plain": [
       "-1250101.274140429"
      ]
     },
     "execution_count": 13,
     "metadata": {},
     "output_type": "execute_result"
    }
   ],
   "source": [
    "model.intercept_"
   ]
  },
  {
   "cell_type": "code",
   "execution_count": 20,
   "id": "97e8075f-4ed5-4bc5-ad9f-8842927a53e2",
   "metadata": {
    "tags": []
   },
   "outputs": [
    {
     "data": {
      "text/html": [
       "<div>\n",
       "<style scoped>\n",
       "    .dataframe tbody tr th:only-of-type {\n",
       "        vertical-align: middle;\n",
       "    }\n",
       "\n",
       "    .dataframe tbody tr th {\n",
       "        vertical-align: top;\n",
       "    }\n",
       "\n",
       "    .dataframe thead th {\n",
       "        text-align: right;\n",
       "    }\n",
       "</style>\n",
       "<table border=\"1\" class=\"dataframe\">\n",
       "  <thead>\n",
       "    <tr style=\"text-align: right;\">\n",
       "      <th></th>\n",
       "      <th>Overall Qual</th>\n",
       "      <th>Gr Liv Area</th>\n",
       "      <th>Garage Area</th>\n",
       "      <th>Garage Cars</th>\n",
       "      <th>Total Bsmt SF</th>\n",
       "      <th>Year Built</th>\n",
       "      <th>Year Remod/Add</th>\n",
       "      <th>Full Bath</th>\n",
       "      <th>Fireplaces</th>\n",
       "      <th>Wood Deck SF</th>\n",
       "    </tr>\n",
       "  </thead>\n",
       "  <tbody>\n",
       "    <tr>\n",
       "      <th>0</th>\n",
       "      <td>6</td>\n",
       "      <td>1479</td>\n",
       "      <td>475.0</td>\n",
       "      <td>2.0</td>\n",
       "      <td>725.0</td>\n",
       "      <td>1976</td>\n",
       "      <td>2005</td>\n",
       "      <td>2</td>\n",
       "      <td>0</td>\n",
       "      <td>0</td>\n",
       "    </tr>\n",
       "    <tr>\n",
       "      <th>1</th>\n",
       "      <td>7</td>\n",
       "      <td>2122</td>\n",
       "      <td>559.0</td>\n",
       "      <td>2.0</td>\n",
       "      <td>913.0</td>\n",
       "      <td>1996</td>\n",
       "      <td>1997</td>\n",
       "      <td>2</td>\n",
       "      <td>1</td>\n",
       "      <td>0</td>\n",
       "    </tr>\n",
       "    <tr>\n",
       "      <th>2</th>\n",
       "      <td>5</td>\n",
       "      <td>1057</td>\n",
       "      <td>246.0</td>\n",
       "      <td>1.0</td>\n",
       "      <td>1057.0</td>\n",
       "      <td>1953</td>\n",
       "      <td>2007</td>\n",
       "      <td>1</td>\n",
       "      <td>0</td>\n",
       "      <td>0</td>\n",
       "    </tr>\n",
       "    <tr>\n",
       "      <th>3</th>\n",
       "      <td>5</td>\n",
       "      <td>1444</td>\n",
       "      <td>400.0</td>\n",
       "      <td>2.0</td>\n",
       "      <td>384.0</td>\n",
       "      <td>2006</td>\n",
       "      <td>2007</td>\n",
       "      <td>2</td>\n",
       "      <td>0</td>\n",
       "      <td>100</td>\n",
       "    </tr>\n",
       "    <tr>\n",
       "      <th>4</th>\n",
       "      <td>6</td>\n",
       "      <td>1445</td>\n",
       "      <td>484.0</td>\n",
       "      <td>2.0</td>\n",
       "      <td>676.0</td>\n",
       "      <td>1900</td>\n",
       "      <td>1993</td>\n",
       "      <td>2</td>\n",
       "      <td>0</td>\n",
       "      <td>0</td>\n",
       "    </tr>\n",
       "  </tbody>\n",
       "</table>\n",
       "</div>"
      ],
      "text/plain": [
       "   Overall Qual  Gr Liv Area  Garage Area  Garage Cars  Total Bsmt SF  \\\n",
       "0             6         1479        475.0          2.0          725.0   \n",
       "1             7         2122        559.0          2.0          913.0   \n",
       "2             5         1057        246.0          1.0         1057.0   \n",
       "3             5         1444        400.0          2.0          384.0   \n",
       "4             6         1445        484.0          2.0          676.0   \n",
       "\n",
       "   Year Built  Year Remod/Add  Full Bath  Fireplaces  Wood Deck SF  \n",
       "0        1976            2005          2           0             0  \n",
       "1        1996            1997          2           1             0  \n",
       "2        1953            2007          1           0             0  \n",
       "3        2006            2007          2           0           100  \n",
       "4        1900            1993          2           0             0  "
      ]
     },
     "execution_count": 20,
     "metadata": {},
     "output_type": "execute_result"
    }
   ],
   "source": [
    "X.head()"
   ]
  },
  {
   "cell_type": "code",
   "execution_count": 15,
   "id": "2550edb8-b696-4204-824f-ea4397ca98c9",
   "metadata": {
    "tags": []
   },
   "outputs": [],
   "source": [
    "y_pred = model.predict(X)"
   ]
  },
  {
   "cell_type": "code",
   "execution_count": 16,
   "id": "35a4ee7f-c9fd-4545-ba89-def7ebf0bebe",
   "metadata": {
    "tags": []
   },
   "outputs": [
    {
     "data": {
      "text/plain": [
       "(2049,)"
      ]
     },
     "execution_count": 16,
     "metadata": {},
     "output_type": "execute_result"
    }
   ],
   "source": [
    "y_pred.shape"
   ]
  },
  {
   "cell_type": "code",
   "execution_count": 17,
   "id": "907b8ec5-d91f-497b-8b61-d96ae5eb762d",
   "metadata": {
    "tags": []
   },
   "outputs": [
    {
     "data": {
      "text/plain": [
       "0.795722849884253"
      ]
     },
     "execution_count": 17,
     "metadata": {},
     "output_type": "execute_result"
    }
   ],
   "source": [
    "# R2\n",
    "metrics.r2_score(y, y_pred)"
   ]
  },
  {
   "cell_type": "code",
   "execution_count": 18,
   "id": "09925dd9-0b20-48b5-838d-ef87720200c5",
   "metadata": {
    "tags": []
   },
   "outputs": [
    {
     "data": {
      "text/plain": [
       "1282741294.7587163"
      ]
     },
     "execution_count": 18,
     "metadata": {},
     "output_type": "execute_result"
    }
   ],
   "source": [
    "# MSE: - Need to fix outliers\n",
    "mse = metrics.mean_squared_error(y, y_pred)\n",
    "mse"
   ]
  },
  {
   "cell_type": "code",
   "execution_count": 19,
   "id": "bcf8a1ee-38c9-4936-acae-6b18515e9226",
   "metadata": {
    "tags": []
   },
   "outputs": [
    {
     "data": {
      "text/plain": [
       "35815.377908919465"
      ]
     },
     "execution_count": 19,
     "metadata": {},
     "output_type": "execute_result"
    }
   ],
   "source": [
    "# RMSE:\n",
    "np.sqrt(mse)"
   ]
  },
  {
   "cell_type": "code",
   "execution_count": null,
   "id": "4d033267-082b-480c-8991-30d1b0bf9a46",
   "metadata": {},
   "outputs": [],
   "source": [
    "# LINEM ASSUMPTIONS"
   ]
  },
  {
   "cell_type": "code",
   "execution_count": null,
   "id": "b9efa96b-4ce3-4ebb-9b3b-647ea4b106a6",
   "metadata": {
    "tags": []
   },
   "outputs": [],
   "source": [
    "# L X and y must be the same size?????\n",
    "plt.scatter(X, y);"
   ]
  },
  {
   "cell_type": "code",
   "execution_count": null,
   "id": "c0f32037-fb17-40b0-a183-70c6af755800",
   "metadata": {},
   "outputs": [],
   "source": [
    "# I"
   ]
  },
  {
   "cell_type": "code",
   "execution_count": null,
   "id": "004e9f5d-b25c-4c1b-95be-7c49475d00fb",
   "metadata": {
    "tags": []
   },
   "outputs": [],
   "source": [
    "# N\n",
    "resids = y - y_pred\n",
    "plt.hist(resids, bins=50);"
   ]
  },
  {
   "cell_type": "code",
   "execution_count": null,
   "id": "453c3dae-6905-4f0a-9033-1208b623b27c",
   "metadata": {
    "tags": []
   },
   "outputs": [],
   "source": [
    "# E\n",
    "plt.scatter(y_pred, resids, s=1)\n",
    "plt.axhline(0, color=\"orange\");"
   ]
  },
  {
   "cell_type": "code",
   "execution_count": null,
   "id": "a90cc5a1-b60e-454d-a7ab-508ee02531c6",
   "metadata": {
    "tags": []
   },
   "outputs": [],
   "source": [
    "plt.scatter(y_pred, resids)\n",
    "plt.xlabel('Predicted values')\n",
    "plt.ylabel('Residuals')\n",
    "plt.title('Residual Plot')\n",
    "plt.axhline(y=0, color='r', linestyle='--')\n",
    "plt.show()"
   ]
  },
  {
   "cell_type": "code",
   "execution_count": null,
   "id": "0141acfb-42b1-4e9b-b426-0b8eaea85bf5",
   "metadata": {
    "tags": []
   },
   "outputs": [],
   "source": [
    "z_scores = (resids - np.mean(resids)) / np.std(resids)\n",
    "outliers = np.abs(z_scores) > 3"
   ]
  },
  {
   "cell_type": "code",
   "execution_count": null,
   "id": "fe976607-0099-4864-97ab-01a49de16ff7",
   "metadata": {
    "tags": []
   },
   "outputs": [],
   "source": [
    "z_scores"
   ]
  },
  {
   "cell_type": "code",
   "execution_count": null,
   "id": "6322cf25-8b7c-4030-a8f6-c7947bb3e4a7",
   "metadata": {
    "tags": []
   },
   "outputs": [],
   "source": [
    "outliers.head(5)"
   ]
  },
  {
   "cell_type": "code",
   "execution_count": null,
   "id": "90dcd1ab-dec1-40cd-8bd4-fc7154a2b00e",
   "metadata": {
    "tags": []
   },
   "outputs": [],
   "source": [
    "plt.boxplot(resids)\n",
    "plt.title('Residuals Boxplot')\n",
    "plt.show()"
   ]
  },
  {
   "cell_type": "code",
   "execution_count": null,
   "id": "dea02311-fe42-4836-b397-661282d44da0",
   "metadata": {
    "tags": []
   },
   "outputs": [],
   "source": [
    "X[outliers].head(30)"
   ]
  },
  {
   "cell_type": "markdown",
   "id": "b2856752-3903-4678-8c08-9b9ebe8ca5b3",
   "metadata": {},
   "source": [
    "### SUBMISSION # 1"
   ]
  },
  {
   "cell_type": "code",
   "execution_count": null,
   "id": "4fff4c32-85d5-41a3-ac49-f63f85a95ca3",
   "metadata": {
    "tags": []
   },
   "outputs": [],
   "source": [
    "test = pd.read_csv('C:/Users/james/Documents/GA/Projects/project-2/datasets/test.csv')"
   ]
  },
  {
   "cell_type": "code",
   "execution_count": null,
   "id": "1c93719e-d1b2-4c47-bbd8-0f6ce04c8de4",
   "metadata": {
    "tags": []
   },
   "outputs": [],
   "source": [
    "test.head()"
   ]
  },
  {
   "cell_type": "code",
   "execution_count": null,
   "id": "b4dd4873-469d-4288-9115-20c077540ae9",
   "metadata": {
    "tags": []
   },
   "outputs": [],
   "source": [
    "test['SalePrice'] = y_pred_submission"
   ]
  },
  {
   "cell_type": "code",
   "execution_count": null,
   "id": "fab8e55e-6eab-4547-bbcb-c700e4733f56",
   "metadata": {
    "tags": []
   },
   "outputs": [],
   "source": [
    "james_submission = test[['Id', 'SalePrice']]"
   ]
  },
  {
   "cell_type": "code",
   "execution_count": null,
   "id": "b1f8b702-d9b1-4c7f-a253-e81b3b5705af",
   "metadata": {
    "tags": []
   },
   "outputs": [],
   "source": [
    "y_pred_submission = model.predict(test[['Overall Qual', 'Gr Liv Area', 'Garage Area', 'Garage Cars', 'Total Bsmt SF', 'Year Built', 'Year Remod/Add', 'Full Bath', 'Fireplaces', 'Wood Deck SF']])"
   ]
  },
  {
   "cell_type": "code",
   "execution_count": null,
   "id": "47431178-53e3-42b5-a26e-79899be5268a",
   "metadata": {
    "tags": []
   },
   "outputs": [],
   "source": [
    "y_pred_submission.shape"
   ]
  },
  {
   "cell_type": "code",
   "execution_count": null,
   "id": "d1cd4f06-274d-4d12-ae17-1e9a38b6b114",
   "metadata": {
    "tags": []
   },
   "outputs": [],
   "source": [
    "james_submission.set_index('Id', inplace=True) "
   ]
  },
  {
   "cell_type": "code",
   "execution_count": null,
   "id": "25a5c812-dc5d-4b08-8bda-7eb69e5f3f13",
   "metadata": {
    "tags": []
   },
   "outputs": [],
   "source": [
    "james_submission.head()"
   ]
  },
  {
   "cell_type": "code",
   "execution_count": null,
   "id": "92515aa0-52f4-4e06-998c-9f883a42ae34",
   "metadata": {
    "tags": []
   },
   "outputs": [],
   "source": [
    "james_submission.to_csv('C:/Users/james/Documents/GA/Projects/project-2/data/james_submission.csv')"
   ]
  },
  {
   "cell_type": "code",
   "execution_count": null,
   "id": "1d18c547-ec35-412c-b0c5-4c908d6cf721",
   "metadata": {},
   "outputs": [],
   "source": []
  }
 ],
 "metadata": {
  "kernelspec": {
   "display_name": "Python 3 (ipykernel)",
   "language": "python",
   "name": "python3"
  },
  "language_info": {
   "codemirror_mode": {
    "name": "ipython",
    "version": 3
   },
   "file_extension": ".py",
   "mimetype": "text/x-python",
   "name": "python",
   "nbconvert_exporter": "python",
   "pygments_lexer": "ipython3",
   "version": "3.11.5"
  }
 },
 "nbformat": 4,
 "nbformat_minor": 5
}
